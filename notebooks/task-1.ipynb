{
 "cells": [
  {
   "cell_type": "code",
   "execution_count": 21,
   "metadata": {},
   "outputs": [],
   "source": [
    "from google_play_scraper import reviews, app\n",
    "import pandas as pd\n",
    "from datetime import datetime\n"
   ]
  },
  {
   "cell_type": "code",
   "execution_count": 22,
   "metadata": {},
   "outputs": [],
   "source": [
    "apps = {\n",
    "    \"Commercial Bank of Ethiopia\": \"com.combanketh.mobilebanking\",\n",
    "    \"Bank of Abyssinia\": \"com.boa.boaMobileBanking\",  \n",
    "    \"Dashen Bank\": \"com.dashen.dashensuperapp\"  \n",
    "}"
   ]
  },
  {
   "cell_type": "code",
   "execution_count": 23,
   "metadata": {},
   "outputs": [],
   "source": [
    "all_reviews = []\n",
    "\n",
    "for bank_name, app_id in apps.items():\n",
    "    result, _ = reviews(\n",
    "        app_id,\n",
    "        lang='en',\n",
    "        country='et',\n",
    "        count=600,  #slightly more to avoid loss after cleaning\n",
    "    )\n",
    "    for r in result:\n",
    "        all_reviews.append({\n",
    "            \"review\": r[\"content\"],\n",
    "            \"rating\": r[\"score\"],\n",
    "            \"date\": r[\"at\"],\n",
    "            \"bank\": bank_name,\n",
    "            \"source\": \"Google Play\"\n",
    "        })\n"
   ]
  },
  {
   "cell_type": "code",
   "execution_count": 24,
   "metadata": {},
   "outputs": [
    {
     "name": "stdout",
     "output_type": "stream",
     "text": [
      "✅ Data saved to bank_reviews.csv with 1648 reviews.\n"
     ]
    }
   ],
   "source": [
    "df = pd.DataFrame(all_reviews)\n",
    "\n",
    "# Drop duplicates\n",
    "df.drop_duplicates(subset=[\"review\", \"rating\", \"date\", \"bank\"], inplace=True)\n",
    "\n",
    "# Handle missing data (drop rows with empty review or rating)\n",
    "df.dropna(subset=[\"review\", \"rating\", \"date\"], inplace=True)\n",
    "\n",
    "# Normalize date column to datetime64[ns] type\n",
    "df[\"date\"] = pd.to_datetime(df[\"date\"])\n",
    "\n",
    "# Save CSV with formatted date string\n",
    "df.to_csv(\"bank_reviews.csv\", index=False, date_format=\"%Y-%m-%d\")\n",
    "print(\"✅ Data saved to bank_reviews.csv with\", len(df), \"reviews.\")\n",
    "\n"
   ]
  }
 ],
 "metadata": {
  "kernelspec": {
   "display_name": ".venv",
   "language": "python",
   "name": "python3"
  },
  "language_info": {
   "codemirror_mode": {
    "name": "ipython",
    "version": 3
   },
   "file_extension": ".py",
   "mimetype": "text/x-python",
   "name": "python",
   "nbconvert_exporter": "python",
   "pygments_lexer": "ipython3",
   "version": "3.12.7"
  }
 },
 "nbformat": 4,
 "nbformat_minor": 2
}
