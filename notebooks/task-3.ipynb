{
 "cells": [
  {
   "cell_type": "code",
   "execution_count": 7,
   "id": "9eacafc9",
   "metadata": {},
   "outputs": [],
   "source": [
    "import oracledb\n",
    "import pandas as pd"
   ]
  },
  {
   "cell_type": "code",
   "execution_count": 8,
   "id": "88be41b3",
   "metadata": {},
   "outputs": [],
   "source": [
    "df = pd.read_csv('../data/bank_reviews_with_themes.csv')"
   ]
  },
  {
   "cell_type": "code",
   "execution_count": null,
   "id": "d4ace6e3",
   "metadata": {},
   "outputs": [],
   "source": [
    "connection = oracledb.connect(\n",
    "    user=\"bank_reviews\",\n",
    "    password=\"bank_reviews_password\",\n",
    "    dsn = \"localhost:1521/XEPDB1\" \n",
    ")\n",
    "cursor = connection.cursor()"
   ]
  },
  {
   "cell_type": "code",
   "execution_count": null,
   "id": "ad932993",
   "metadata": {},
   "outputs": [],
   "source": [
    "# Add banks \n",
    "bank_ids = {}\n",
    "\n",
    "for bank_name in df[\"bank\"].unique():\n",
    "    # Insert only if not already inserted\n",
    "    cursor.execute(\"SELECT bank_id FROM banks WHERE name = :1\", [bank_name])\n",
    "    row = cursor.fetchone()\n",
    "\n",
    "    if row:\n",
    "        bank_ids[bank_name] = row[0]\n",
    "    else:\n",
    "        cursor.execute(\"INSERT INTO banks (name) VALUES (:1)\", [bank_name])\n",
    "        # Fetch the ID just inserted\n",
    "        cursor.execute(\"SELECT bank_id FROM banks WHERE name = :1\", [bank_name])\n",
    "        bank_ids[bank_name] = cursor.fetchone()[0]\n"
   ]
  },
  {
   "cell_type": "code",
   "execution_count": 13,
   "id": "4fb37d25",
   "metadata": {},
   "outputs": [
    {
     "name": "stdout",
     "output_type": "stream",
     "text": [
      "(1, 'Commercial Bank of Ethiopia')\n",
      "(2, 'Bank of Abyssinia')\n",
      "(3, 'Dashen Bank')\n"
     ]
    }
   ],
   "source": [
    "# Add reviews\n",
    "\n",
    "cursor.execute(\"SELECT * FROM banks\")\n",
    "rows = cursor.fetchall()\n",
    "\n",
    "for row in rows:\n",
    "    print(row)"
   ]
  },
  {
   "cell_type": "code",
   "execution_count": null,
   "id": "25861d4c",
   "metadata": {},
   "outputs": [
    {
     "name": "stdout",
     "output_type": "stream",
     "text": [
      "✅ 1648 reviews inserted.\n",
      "📊 Total reviews in database: 1648\n",
      "\n",
      "📌 Sample reviews:\n",
      "(79, 'Commercial Bank of Ethiopia', 1, 'negative', 'negative')\n",
      "(80, 'Commercial Bank of Ethiopia', 5, 'neutral', 'positive')\n",
      "(81, 'Commercial Bank of Ethiopia', 5, 'positive', 'positive')\n",
      "(82, 'Commercial Bank of Ethiopia', 5, 'positive', 'positive')\n",
      "(83, 'Commercial Bank of Ethiopia', 5, 'positive', 'positive')\n"
     ]
    }
   ],
   "source": [
    "# Step 2: Insert reviews\n",
    "inserted = 0\n",
    "for _, row in df.iterrows():\n",
    "    try:\n",
    "        cursor.execute(\"\"\"\n",
    "            INSERT INTO reviews (\n",
    "                review_id, review_text, rating, review_date, bank_id, source,\n",
    "                vader_sentiment, compound_score, bert_sentiment, bert_score, identified_theme\n",
    "            )\n",
    "            VALUES (\n",
    "                :1, :2, :3, TO_DATE(:4, 'YYYY-MM-DD'), :5, :6,\n",
    "                :7, :8, :9, :10, :11\n",
    "            )\n",
    "        \"\"\", (\n",
    "            int(row[\"review_id\"]),\n",
    "            row[\"review\"],\n",
    "            int(row[\"rating\"]),\n",
    "            row[\"date\"],\n",
    "            bank_ids[row[\"bank\"]],\n",
    "            row[\"source\"],\n",
    "            row[\"vader_sentiment\"],\n",
    "            float(row[\"compound_score\"]),\n",
    "            row[\"bert_sentiment\"],\n",
    "            float(row[\"bert_score\"]),\n",
    "            row[\"identified_theme(s)\"]\n",
    "        ))\n",
    "        inserted += 1\n",
    "    except oracledb.DatabaseError as e:\n",
    "        print(\"Skipping review_id\", row[\"review_id\"], \"due to error:\", e)\n",
    "\n",
    "# Step 3: Commit the inserts\n",
    "connection.commit()\n",
    "print(f\"✅ {inserted} reviews inserted.\")\n",
    "\n",
    "# Step 4: Verification – count total rows\n",
    "cursor.execute(\"SELECT COUNT(*) FROM reviews\")\n",
    "count = cursor.fetchone()[0]\n",
    "print(\"📊 Total reviews in database:\", count)\n",
    "\n",
    "# Step 5: Preview first 5 rows (joined with bank names)\n",
    "cursor.execute(\"\"\"\n",
    "    SELECT r.review_id, b.name AS bank_name, r.rating, r.vader_sentiment, r.bert_sentiment\n",
    "    FROM reviews r\n",
    "    JOIN banks b ON r.bank_id = b.bank_id\n",
    "    FETCH FIRST 5 ROWS ONLY\n",
    "\"\"\")\n",
    "\n",
    "print(\"\\n📌 Sample reviews:\")\n",
    "for row in cursor.fetchall():\n",
    "    print(row)\n",
    "\n",
    "# Step 6: Close everything\n",
    "cursor.close()\n",
    "connection.close()"
   ]
  }
 ],
 "metadata": {
  "kernelspec": {
   "display_name": ".venv",
   "language": "python",
   "name": "python3"
  },
  "language_info": {
   "codemirror_mode": {
    "name": "ipython",
    "version": 3
   },
   "file_extension": ".py",
   "mimetype": "text/x-python",
   "name": "python",
   "nbconvert_exporter": "python",
   "pygments_lexer": "ipython3",
   "version": "3.12.7"
  }
 },
 "nbformat": 4,
 "nbformat_minor": 5
}
