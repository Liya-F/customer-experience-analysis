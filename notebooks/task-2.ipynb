{
 "cells": [
  {
   "cell_type": "code",
   "execution_count": 21,
   "id": "3112f419",
   "metadata": {},
   "outputs": [],
   "source": [
    "import pandas as pd\n",
    "from vaderSentiment.vaderSentiment import SentimentIntensityAnalyzer\n",
    "import seaborn as sns\n",
    "import matplotlib.pyplot as plt"
   ]
  },
  {
   "cell_type": "code",
   "execution_count": 22,
   "id": "f7fd41ee",
   "metadata": {},
   "outputs": [],
   "source": [
    "df = pd.read_csv('../data/bank_reviews.csv')"
   ]
  },
  {
   "cell_type": "code",
   "execution_count": 23,
   "id": "d6bedf41",
   "metadata": {},
   "outputs": [
    {
     "name": "stdout",
     "output_type": "stream",
     "text": [
      "<class 'pandas.core.frame.DataFrame'>\n",
      "RangeIndex: 1648 entries, 0 to 1647\n",
      "Data columns (total 5 columns):\n",
      " #   Column  Non-Null Count  Dtype \n",
      "---  ------  --------------  ----- \n",
      " 0   review  1648 non-null   object\n",
      " 1   rating  1648 non-null   int64 \n",
      " 2   date    1648 non-null   object\n",
      " 3   bank    1648 non-null   object\n",
      " 4   source  1648 non-null   object\n",
      "dtypes: int64(1), object(4)\n",
      "memory usage: 64.5+ KB\n"
     ]
    }
   ],
   "source": [
    "df.info()"
   ]
  },
  {
   "cell_type": "markdown",
   "id": "68f337eb",
   "metadata": {},
   "source": [
    "### Sentiment Analysis using VADER"
   ]
  },
  {
   "cell_type": "code",
   "execution_count": 35,
   "id": "e30ca529",
   "metadata": {},
   "outputs": [
    {
     "data": {
      "text/html": [
       "<div>\n",
       "<style scoped>\n",
       "    .dataframe tbody tr th:only-of-type {\n",
       "        vertical-align: middle;\n",
       "    }\n",
       "\n",
       "    .dataframe tbody tr th {\n",
       "        vertical-align: top;\n",
       "    }\n",
       "\n",
       "    .dataframe thead th {\n",
       "        text-align: right;\n",
       "    }\n",
       "</style>\n",
       "<table border=\"1\" class=\"dataframe\">\n",
       "  <thead>\n",
       "    <tr style=\"text-align: right;\">\n",
       "      <th></th>\n",
       "      <th>review</th>\n",
       "      <th>compound_score</th>\n",
       "      <th>vader_sentiment</th>\n",
       "    </tr>\n",
       "  </thead>\n",
       "  <tbody>\n",
       "    <tr>\n",
       "      <th>0</th>\n",
       "      <td>the app is proactive and a good connections.</td>\n",
       "      <td>0.6908</td>\n",
       "      <td>positive</td>\n",
       "    </tr>\n",
       "    <tr>\n",
       "      <th>1</th>\n",
       "      <td>I cannot send to cbebirr app. through this app.</td>\n",
       "      <td>0.0000</td>\n",
       "      <td>neutral</td>\n",
       "    </tr>\n",
       "    <tr>\n",
       "      <th>2</th>\n",
       "      <td>good</td>\n",
       "      <td>0.4404</td>\n",
       "      <td>positive</td>\n",
       "    </tr>\n",
       "    <tr>\n",
       "      <th>3</th>\n",
       "      <td>not functional</td>\n",
       "      <td>0.0000</td>\n",
       "      <td>neutral</td>\n",
       "    </tr>\n",
       "    <tr>\n",
       "      <th>4</th>\n",
       "      <td>everytime you uninstall the app you have to re...</td>\n",
       "      <td>0.1739</td>\n",
       "      <td>positive</td>\n",
       "    </tr>\n",
       "    <tr>\n",
       "      <th>...</th>\n",
       "      <td>...</td>\n",
       "      <td>...</td>\n",
       "      <td>...</td>\n",
       "    </tr>\n",
       "    <tr>\n",
       "      <th>1643</th>\n",
       "      <td>Best</td>\n",
       "      <td>0.6369</td>\n",
       "      <td>positive</td>\n",
       "    </tr>\n",
       "    <tr>\n",
       "      <th>1644</th>\n",
       "      <td>Waw Great and innovated,user friendly, always ...</td>\n",
       "      <td>0.8074</td>\n",
       "      <td>positive</td>\n",
       "    </tr>\n",
       "    <tr>\n",
       "      <th>1645</th>\n",
       "      <td>It's Best waww 🙏</td>\n",
       "      <td>0.6369</td>\n",
       "      <td>positive</td>\n",
       "    </tr>\n",
       "    <tr>\n",
       "      <th>1646</th>\n",
       "      <td>Always one step ahead</td>\n",
       "      <td>0.0000</td>\n",
       "      <td>neutral</td>\n",
       "    </tr>\n",
       "    <tr>\n",
       "      <th>1647</th>\n",
       "      <td>Like Me, I Hope It Works Better Than Before.</td>\n",
       "      <td>0.8074</td>\n",
       "      <td>positive</td>\n",
       "    </tr>\n",
       "  </tbody>\n",
       "</table>\n",
       "<p>1648 rows × 3 columns</p>\n",
       "</div>"
      ],
      "text/plain": [
       "                                                 review  compound_score  \\\n",
       "0          the app is proactive and a good connections.          0.6908   \n",
       "1       I cannot send to cbebirr app. through this app.          0.0000   \n",
       "2                                                  good          0.4404   \n",
       "3                                        not functional          0.0000   \n",
       "4     everytime you uninstall the app you have to re...          0.1739   \n",
       "...                                                 ...             ...   \n",
       "1643                                               Best          0.6369   \n",
       "1644  Waw Great and innovated,user friendly, always ...          0.8074   \n",
       "1645                                   It's Best waww 🙏          0.6369   \n",
       "1646                              Always one step ahead          0.0000   \n",
       "1647       Like Me, I Hope It Works Better Than Before.          0.8074   \n",
       "\n",
       "     vader_sentiment  \n",
       "0           positive  \n",
       "1            neutral  \n",
       "2           positive  \n",
       "3            neutral  \n",
       "4           positive  \n",
       "...              ...  \n",
       "1643        positive  \n",
       "1644        positive  \n",
       "1645        positive  \n",
       "1646         neutral  \n",
       "1647        positive  \n",
       "\n",
       "[1648 rows x 3 columns]"
      ]
     },
     "execution_count": 35,
     "metadata": {},
     "output_type": "execute_result"
    }
   ],
   "source": [
    "analyzer = SentimentIntensityAnalyzer()\n",
    "\n",
    "# Define function to classify sentiment\n",
    "def get_sentiment_label(score):\n",
    "    if score >= 0.05:\n",
    "        return \"positive\"\n",
    "    elif score <= -0.05:\n",
    "        return \"negative\"\n",
    "    else:\n",
    "        return \"neutral\"\n",
    "\n",
    "# Apply VADER\n",
    "df[\"compound_score\"] = df[\"review\"].apply(lambda x: analyzer.polarity_scores(str(x))[\"compound\"])\n",
    "df[\"vader_sentiment\"] = df[\"compound_score\"].apply(get_sentiment_label)\n",
    "\n",
    "df[[\"review\", \"compound_score\", \"vader_sentiment\"]]\n"
   ]
  },
  {
   "cell_type": "code",
   "execution_count": 36,
   "id": "f990aece",
   "metadata": {},
   "outputs": [
    {
     "data": {
      "text/plain": [
       "(                           bank  rating  compound_score\n",
       " 0             Bank of Abyssinia       1       -0.174007\n",
       " 1             Bank of Abyssinia       2       -0.018022\n",
       " 2             Bank of Abyssinia       3        0.195535\n",
       " 3             Bank of Abyssinia       4        0.287791\n",
       " 4             Bank of Abyssinia       5        0.340090\n",
       " 5   Commercial Bank of Ethiopia       1       -0.033566\n",
       " 6   Commercial Bank of Ethiopia       2        0.064595\n",
       " 7   Commercial Bank of Ethiopia       3        0.123031\n",
       " 8   Commercial Bank of Ethiopia       4        0.314567\n",
       " 9   Commercial Bank of Ethiopia       5        0.420969\n",
       " 10                  Dashen Bank       1       -0.043218\n",
       " 11                  Dashen Bank       2       -0.085565\n",
       " 12                  Dashen Bank       3        0.303873\n",
       " 13                  Dashen Bank       4        0.322442\n",
       " 14                  Dashen Bank       5        0.539752,\n",
       "                           bank vader_sentiment  count\n",
       " 0            Bank of Abyssinia        negative    146\n",
       " 1            Bank of Abyssinia         neutral    194\n",
       " 2            Bank of Abyssinia        positive    260\n",
       " 3  Commercial Bank of Ethiopia        negative     45\n",
       " 4  Commercial Bank of Ethiopia         neutral    137\n",
       " 5  Commercial Bank of Ethiopia        positive    418\n",
       " 6                  Dashen Bank        negative     26\n",
       " 7                  Dashen Bank         neutral     90\n",
       " 8                  Dashen Bank        positive    332)"
      ]
     },
     "execution_count": 36,
     "metadata": {},
     "output_type": "execute_result"
    }
   ],
   "source": [
    "# Mean compound score by bank and rating\n",
    "summary = df.groupby([\"bank\", \"rating\"])[\"compound_score\"].mean().reset_index()\n",
    "\n",
    "# Count of sentiment labels per bank\n",
    "sentiment_count = df.groupby([\"bank\", \"vader_sentiment\"]).size().reset_index(name=\"count\")\n",
    "\n",
    "summary, sentiment_count\n"
   ]
  },
  {
   "cell_type": "code",
   "execution_count": 37,
   "id": "ccb5a848",
   "metadata": {},
   "outputs": [
    {
     "data": {
      "image/png": "[encoded data removed]",
      "text/plain": [
       "<Figure size 1000x600 with 1 Axes>"
      ]
     },
     "metadata": {},
     "output_type": "display_data"
    }
   ],
   "source": [
    "plt.figure(figsize=(10, 6))\n",
    "sns.barplot(data=summary, x=\"rating\", y=\"compound_score\", hue=\"bank\")\n",
    "\n",
    "plt.title(\"Mean VADER Compound Score by Bank and Rating\")\n",
    "plt.xlabel(\"User Rating (Stars)\")\n",
    "plt.ylabel(\"Mean Compound Sentiment Score\")\n",
    "plt.legend(title=\"Bank\")\n",
    "plt.tight_layout()\n",
    "plt.show()"
   ]
  },
  {
   "cell_type": "code",
   "execution_count": 38,
   "id": "56a2eff1",
   "metadata": {},
   "outputs": [
    {
     "data": {
      "image/png": "[encoded data removed]",
      "text/plain": [
       "<Figure size 1000x600 with 1 Axes>"
      ]
     },
     "metadata": {},
     "output_type": "display_data"
    }
   ],
   "source": [
    "plt.figure(figsize=(10, 6))\n",
    "sns.barplot(data=sentiment_count, x=\"bank\", y=\"count\", hue=\"vader_sentiment\")\n",
    "\n",
    "plt.title(\"Sentiment Label Distribution per Bank (VADER)\")\n",
    "plt.xlabel(\"Bank\")\n",
    "plt.ylabel(\"Number of Reviews\")\n",
    "plt.legend(title=\"Sentiment\")\n",
    "plt.tight_layout()\n",
    "plt.show()\n"
   ]
  },
  {
   "cell_type": "markdown",
   "id": "cf02f312",
   "metadata": {},
   "source": [
    "### Sentiment Analysis using distilbert-base-uncased-finetuned-sst-2-english"
   ]
  },
  {
   "cell_type": "code",
   "execution_count": 42,
   "id": "2a6d396a",
   "metadata": {},
   "outputs": [],
   "source": [
    "df2 = pd.read_csv(\"../data/bank_reviews.csv\")"
   ]
  },
  {
   "cell_type": "code",
   "execution_count": 50,
   "id": "9929e268",
   "metadata": {},
   "outputs": [
    {
     "name": "stderr",
     "output_type": "stream",
     "text": [
      "Device set to use cpu\n",
      "100%|██████████| 1648/1648 [00:58<00:00, 28.40it/s]\n"
     ]
    }
   ],
   "source": [
    "from transformers import pipeline\n",
    "from tqdm import tqdm\n",
    "\n",
    "# Load sentiment analysis pipeline\n",
    "sentiment_pipeline = pipeline(\"sentiment-analysis\", model=\"distilbert-base-uncased-finetuned-sst-2-english\")\n",
    "# Truncate reviews to 512 characters and analyze sentiment\n",
    "tqdm.pandas()  \n",
    "\n",
    "df2[\"bert_result\"] = df[\"review\"].progress_apply(lambda x: sentiment_pipeline(str(x))[0])"
   ]
  },
  {
   "cell_type": "code",
   "execution_count": null,
   "id": "78c43fd4",
   "metadata": {},
   "outputs": [
    {
     "name": "stdout",
     "output_type": "stream",
     "text": [
      "bert_sentiment                      NEGATIVE  POSITIVE\n",
      "bank                        rating                    \n",
      "Bank of Abyssinia           1            237        24\n",
      "                            2             21         2\n",
      "                            3             24        19\n",
      "                            4             11        11\n",
      "                            5             61       190\n",
      "Commercial Bank of Ethiopia 1             51        13\n",
      "                            2             15         5\n",
      "                            3             29         7\n",
      "                            4             29        26\n",
      "                            5             61       364\n",
      "Dashen Bank                 1             32         2\n",
      "                            2             15         2\n",
      "                            3              6         5\n",
      "                            4             12        12\n",
      "                            5             39       323\n"
     ]
    }
   ],
   "source": [
    "bert_summary = df2.groupby([\"bank\", \"rating\"])[\"bert_sentiment\"].value_counts().unstack().fillna(0)\n",
    "print(bert_summary) "
   ]
  },
  {
   "cell_type": "code",
   "execution_count": 48,
   "id": "432c8d42",
   "metadata": {},
   "outputs": [
    {
     "name": "stdout",
     "output_type": "stream",
     "text": [
      "bert_sentiment               NEGATIVE  POSITIVE\n",
      "bank                                           \n",
      "Bank of Abyssinia                 354       246\n",
      "Commercial Bank of Ethiopia       185       415\n",
      "Dashen Bank                       104       344\n"
     ]
    }
   ],
   "source": [
    "sentiment_count = df2.groupby(\"bank\")[\"bert_sentiment\"].value_counts().unstack().fillna(0)\n",
    "print(sentiment_count)"
   ]
  }
 ],
 "metadata": {
  "kernelspec": {
   "display_name": ".venv",
   "language": "python",
   "name": "python3"
  },
  "language_info": {
   "codemirror_mode": {
    "name": "ipython",
    "version": 3
   },
   "file_extension": ".py",
   "mimetype": "text/x-python",
   "name": "python",
   "nbconvert_exporter": "python",
   "pygments_lexer": "ipython3",
   "version": "3.12.7"
  }
 },
 "nbformat": 4,
 "nbformat_minor": 5
}
